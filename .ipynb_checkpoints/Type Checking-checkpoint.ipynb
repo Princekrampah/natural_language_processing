{
 "cells": [
  {
   "cell_type": "markdown",
   "metadata": {},
   "source": [
    "# Type Checking in Python\n",
    "\n",
    "## What we'll learn\n",
    "\n",
    "- Type annotations\n",
    "- Adding static dtypes to code\n",
    "- Run static type checker (mypy)\n",
    "- Enforcing types at run time"
   ]
  },
  {
   "cell_type": "markdown",
   "metadata": {},
   "source": [
    "## Type Systems: Dynamic vs Static type\n",
    "\n",
    "### Dynamically Typed Languages\n",
    "\n",
    "- Python is a dynamic typed language, the data types are checked only at run time this is because Python is an intepreted language.\n",
    "\n",
    "- Type of a variable is allowed to change over its life time.\n",
    "\n",
    "### Statically Typed Languages\n",
    "\n",
    "- Static typed is done without running the code\n",
    "\n",
    "- type checking in most statically typed languages is done while compiling the code\n",
    "\n",
    "- Type of a variable is not allowed to change over its life time but, there is a mechanism to perform type casting\n",
    "\n",
    "\n",
    "Since Python is a dymanically typed language, how do we implement static hint in python to inform the user on what types need to be used with a given variabel?  This lead to the introduction of type hints in Python 3."
   ]
  },
  {
   "cell_type": "markdown",
   "metadata": {},
   "source": [
    "## Duck Typing\n",
    "\n",
    "\"If a bird walks like a duck, quacks like a duck then, it a duck\"\n",
    "\n",
    "- Duck typing relates to dynamic typing.\n",
    "\n",
    "- In duck typing we dont care about the class of the object all we care about is that does it have a particular method(\"Does it quack like a duck, does it wakl like a duck?\").\n",
    "\n",
    "- We dont care about the type as well."
   ]
  },
  {
   "cell_type": "markdown",
   "metadata": {},
   "source": [
    "## Type Hinting\n",
    "\n",
    "- Since Python is dynamically typed and a variable can change types in through out its life time, to enforce a type on a given variable we use type hinting.\n",
    "\n",
    "- Type hinting is a practice of statically indication the type of a variable in Python.\n",
    "\n",
    "- They have not run time effect\n",
    "\n",
    "- Type hints were first introduced in Python 3.5\n",
    "\n",
    "- To perform type hinting we annotate the arguments in a functio and specify the return type.\n",
    "\n",
    "- Type hints just indicate the type that should be used, they are not enforced on thier own.\n",
    "\n",
    "### Example"
   ]
  },
  {
   "cell_type": "code",
   "execution_count": 14,
   "metadata": {},
   "outputs": [
    {
     "name": "stdout",
     "output_type": "stream",
     "text": [
      "          Hello World          \n",
      "-------------------------------\n"
     ]
    }
   ],
   "source": [
    "def to_title(header: str, underline: bool) -> str:\n",
    "    if not underline:\n",
    "        return header.title()\n",
    "    else:\n",
    "        return f\"{' ' * 10 }{header. title()}{' ' * 10 }\\n{'-' * (len(header)+20)}\"\n",
    "\n",
    "result = to_title(\"hello world\", True)\n",
    "print(result)"
   ]
  },
  {
   "cell_type": "markdown",
   "metadata": {},
   "source": [
    "**header: str** specifies that the header argument must be a string object. ** -> ** specifies that the return type must be of an string object type.\n",
    "\n",
    "NOTE:\n",
    "\n",
    "from the code snippet below, this shows that type hint is not enforce on its own, its just an indication. This can be seen when I passed a \"center\" instead of a boolean value yet we got the desired output, this is cause strings are truthyness to it. So how do we address this error?\n",
    "\n",
    "To address this error we use so tools to detect this error.\n",
    "\n",
    "#### PEP 8 rules for writing annotations\n",
    "\n",
    "1. There is no space before the colon, and one space after the colon followed by the type.\n",
    "\n",
    "2. There must be a space before and after the  -> "
   ]
  },
  {
   "cell_type": "code",
   "execution_count": 15,
   "metadata": {},
   "outputs": [
    {
     "name": "stdout",
     "output_type": "stream",
     "text": [
      "          Hello World          \n",
      "-------------------------------\n"
     ]
    }
   ],
   "source": [
    "result = to_title(\"hello world\", \"center\")\n",
    "print(result)"
   ]
  },
  {
   "cell_type": "markdown",
   "metadata": {},
   "source": [
    "## Mypy\n",
    "\n",
    "Mypy is an optional static type checker for Python that aims to combine the benefits of dynamic (or “duck”) typing and static typing.[source](http://mypy-lang.org/)\n",
    "\n",
    "To use mypy, first we need to install it\n",
    "```\n",
    "    pip install mypy\n",
    "```\n",
    "\n",
    "To use mypy on your file before running it use:\n",
    "\n",
    "```\n",
    "    mypy file.py\n",
    "    \n",
    "```\n",
    "\n",
    "Mypy will output errors in case of any type misues else, not output is given."
   ]
  },
  {
   "cell_type": "code",
   "execution_count": 16,
   "metadata": {},
   "outputs": [
    {
     "name": "stdout",
     "output_type": "stream",
     "text": [
      "Collecting mypy\n",
      "  Downloading mypy-0.790-cp38-cp38-manylinux1_x86_64.whl (22.0 MB)\n",
      "\u001b[K     |████████████████████████████████| 22.0 MB 116 kB/s eta 0:00:01    |███████▊                        | 5.3 MB 547 kB/s eta 0:00:31\n",
      "\u001b[?25hCollecting mypy-extensions<0.5.0,>=0.4.3\n",
      "  Downloading mypy_extensions-0.4.3-py2.py3-none-any.whl (4.5 kB)\n",
      "Collecting typing-extensions>=3.7.4\n",
      "  Downloading typing_extensions-3.7.4.3-py3-none-any.whl (22 kB)\n",
      "Collecting typed-ast<1.5.0,>=1.4.0\n",
      "  Downloading typed_ast-1.4.1-cp38-cp38-manylinux1_x86_64.whl (768 kB)\n",
      "\u001b[K     |████████████████████████████████| 768 kB 602 kB/s eta 0:00:01     |████████████                    | 286 kB 629 kB/s eta 0:00:01\n",
      "\u001b[?25hInstalling collected packages: mypy-extensions, typing-extensions, typed-ast, mypy\n",
      "Successfully installed mypy-0.790 mypy-extensions-0.4.3 typed-ast-1.4.1 typing-extensions-3.7.4.3\n"
     ]
    }
   ],
   "source": [
    "!pip install mypy"
   ]
  },
  {
   "cell_type": "markdown",
   "metadata": {},
   "source": [
    "# Annotations\n",
    "\n",
    "Annotations are what we have been using so far to specify the types, \n",
    "\n",
    "### Type annotations syntax\n",
    "\n",
    "```\n",
    "    argument: annotation\n",
    "```\n",
    "\n",
    "### Return type annotation syntax\n",
    "\n",
    "```\n",
    "    -> annotation\n",
    "```\n",
    "\n",
    "To check of annotations we use __annotaions__ on a method\n",
    "\n",
    "### Variable Annotations\n",
    "\n",
    "Annotations can also be used with variables\n",
    "\n",
    "\n",
    "```\n",
    "    identifier: annotation\n",
    "```"
   ]
  },
  {
   "cell_type": "code",
   "execution_count": 21,
   "metadata": {},
   "outputs": [
    {
     "data": {
      "text/plain": [
       "{'header': str, 'underline': bool, 'return': str}"
      ]
     },
     "execution_count": 21,
     "metadata": {},
     "output_type": "execute_result"
    }
   ],
   "source": [
    "to_title.__annotations__"
   ]
  },
  {
   "cell_type": "code",
   "execution_count": 22,
   "metadata": {},
   "outputs": [
    {
     "data": {
      "text/plain": [
       "{'name': str}"
      ]
     },
     "execution_count": 22,
     "metadata": {},
     "output_type": "execute_result"
    }
   ],
   "source": [
    "name: str = \"James\"\n",
    "    \n",
    "__annotations__"
   ]
  },
  {
   "cell_type": "code",
   "execution_count": null,
   "metadata": {},
   "outputs": [],
   "source": []
  }
 ],
 "metadata": {
  "kernelspec": {
   "display_name": "Python 3",
   "language": "python",
   "name": "python3"
  },
  "language_info": {
   "codemirror_mode": {
    "name": "ipython",
    "version": 3
   },
   "file_extension": ".py",
   "mimetype": "text/x-python",
   "name": "python",
   "nbconvert_exporter": "python",
   "pygments_lexer": "ipython3",
   "version": "3.8.5"
  }
 },
 "nbformat": 4,
 "nbformat_minor": 4
}
