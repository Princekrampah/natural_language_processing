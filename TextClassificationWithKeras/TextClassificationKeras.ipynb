{
 "cells": [
  {
   "cell_type": "markdown",
   "metadata": {
    "slideshow": {
     "slide_type": "slide"
    }
   },
   "source": [
    "# TEXT CLASSIFICATIO WITH KERAS"
   ]
  },
  {
   "cell_type": "markdown",
   "metadata": {
    "slideshow": {
     "slide_type": "slide"
    }
   },
   "source": [
    "## Sentiment Analysis\n",
    "\n",
    "Trying to understand the sentiments and moods behind text using machine learning. Sentiment analysis is a branch of Natural Language Processing.\n",
    "\n",
    "Natural Language Processing involves using computer to understand human languages and make sense out of them.\n",
    "\n",
    "[Link of dataset we'll use](https://archive.ics.uci.edu/ml/machine-learning-databases/00331/)"
   ]
  },
  {
   "cell_type": "code",
   "execution_count": 274,
   "metadata": {
    "slideshow": {
     "slide_type": "slide"
    }
   },
   "outputs": [
    {
     "data": {
      "text/html": [
       "<div>\n",
       "<style scoped>\n",
       "    .dataframe tbody tr th:only-of-type {\n",
       "        vertical-align: middle;\n",
       "    }\n",
       "\n",
       "    .dataframe tbody tr th {\n",
       "        vertical-align: top;\n",
       "    }\n",
       "\n",
       "    .dataframe thead th {\n",
       "        text-align: right;\n",
       "    }\n",
       "</style>\n",
       "<table border=\"1\" class=\"dataframe\">\n",
       "  <thead>\n",
       "    <tr style=\"text-align: right;\">\n",
       "      <th></th>\n",
       "      <th>sentence</th>\n",
       "      <th>label</th>\n",
       "      <th>source</th>\n",
       "    </tr>\n",
       "  </thead>\n",
       "  <tbody>\n",
       "    <tr>\n",
       "      <th>0</th>\n",
       "      <td>So there is no way for me to plug it in here i...</td>\n",
       "      <td>0</td>\n",
       "      <td>amazon</td>\n",
       "    </tr>\n",
       "    <tr>\n",
       "      <th>1</th>\n",
       "      <td>Good case, Excellent value.</td>\n",
       "      <td>1</td>\n",
       "      <td>amazon</td>\n",
       "    </tr>\n",
       "    <tr>\n",
       "      <th>2</th>\n",
       "      <td>Great for the jawbone.</td>\n",
       "      <td>1</td>\n",
       "      <td>amazon</td>\n",
       "    </tr>\n",
       "    <tr>\n",
       "      <th>3</th>\n",
       "      <td>Tied to charger for conversations lasting more...</td>\n",
       "      <td>0</td>\n",
       "      <td>amazon</td>\n",
       "    </tr>\n",
       "    <tr>\n",
       "      <th>4</th>\n",
       "      <td>The mic is great.</td>\n",
       "      <td>1</td>\n",
       "      <td>amazon</td>\n",
       "    </tr>\n",
       "    <tr>\n",
       "      <th>...</th>\n",
       "      <td>...</td>\n",
       "      <td>...</td>\n",
       "      <td>...</td>\n",
       "    </tr>\n",
       "    <tr>\n",
       "      <th>743</th>\n",
       "      <td>I just got bored watching Jessice Lange take h...</td>\n",
       "      <td>0</td>\n",
       "      <td>imdb</td>\n",
       "    </tr>\n",
       "    <tr>\n",
       "      <th>744</th>\n",
       "      <td>Unfortunately, any virtue in this film's produ...</td>\n",
       "      <td>0</td>\n",
       "      <td>imdb</td>\n",
       "    </tr>\n",
       "    <tr>\n",
       "      <th>745</th>\n",
       "      <td>In a word, it is embarrassing.</td>\n",
       "      <td>0</td>\n",
       "      <td>imdb</td>\n",
       "    </tr>\n",
       "    <tr>\n",
       "      <th>746</th>\n",
       "      <td>Exceptionally bad!</td>\n",
       "      <td>0</td>\n",
       "      <td>imdb</td>\n",
       "    </tr>\n",
       "    <tr>\n",
       "      <th>747</th>\n",
       "      <td>All in all its an insult to one's intelligence...</td>\n",
       "      <td>0</td>\n",
       "      <td>imdb</td>\n",
       "    </tr>\n",
       "  </tbody>\n",
       "</table>\n",
       "<p>2748 rows × 3 columns</p>\n",
       "</div>"
      ],
      "text/plain": [
       "                                              sentence  label  source\n",
       "0    So there is no way for me to plug it in here i...      0  amazon\n",
       "1                          Good case, Excellent value.      1  amazon\n",
       "2                               Great for the jawbone.      1  amazon\n",
       "3    Tied to charger for conversations lasting more...      0  amazon\n",
       "4                                    The mic is great.      1  amazon\n",
       "..                                                 ...    ...     ...\n",
       "743  I just got bored watching Jessice Lange take h...      0    imdb\n",
       "744  Unfortunately, any virtue in this film's produ...      0    imdb\n",
       "745                   In a word, it is embarrassing.        0    imdb\n",
       "746                               Exceptionally bad!        0    imdb\n",
       "747  All in all its an insult to one's intelligence...      0    imdb\n",
       "\n",
       "[2748 rows x 3 columns]"
      ]
     },
     "execution_count": 274,
     "metadata": {},
     "output_type": "execute_result"
    }
   ],
   "source": [
    "import pandas as pd\n",
    "\n",
    "filepaths = {'amazon' : '../sentiment_labelled_sentences/sentiment_labelled_sentences/amazon_cells_labelled.txt',\n",
    "            'yelp' : '../sentiment_labelled_sentences/sentiment_labelled_sentences/yelp_labelled.txt',\n",
    "            'imdb' : '../sentiment_labelled_sentences/sentiment_labelled_sentences/imdb_labelled.txt'\n",
    "            }\n",
    "df_list = []\n",
    "for source, path in filepaths.items():\n",
    "    df = pd.read_csv(path, names = ['sentence', 'label'], sep='\\t')\n",
    "    df['source'] = source\n",
    "    df_list.append(df)\n",
    "    \n",
    "df = pd.concat(df_list)\n",
    "df"
   ]
  },
  {
   "cell_type": "code",
   "execution_count": 275,
   "metadata": {
    "scrolled": true,
    "slideshow": {
     "slide_type": "slide"
    }
   },
   "outputs": [
    {
     "name": "stdout",
     "output_type": "stream",
     "text": [
      "sentence    So there is no way for me to plug it in here i...\n",
      "label                                                       0\n",
      "source                                                 amazon\n",
      "Name: 0, dtype: object\n"
     ]
    }
   ],
   "source": [
    "print(df.iloc[0])"
   ]
  },
  {
   "cell_type": "markdown",
   "metadata": {
    "slideshow": {
     "slide_type": "slide"
    }
   },
   "source": [
    "## Terminologies\n",
    "\n",
    "1. **Curpos** : The huge block of text used to train  a model. When we want to create a model to analyze twites then we need to have collected some twittes on which we will train the model. This collection of text is what we call the corpus.\n",
    "\n",
    "2. **Vocabulary** : This is the list of all the unique words used in corpus where each word has its own index.We can also use character-based vocabulary, intead of using the words of a text corpus as the vocabulary, you could also use a character-based vocabulary. The pesence of index for each word in the vocabulary it to enable use to create vectors of each sentence."
   ]
  },
  {
   "cell_type": "markdown",
   "metadata": {
    "slideshow": {
     "slide_type": "slide"
    }
   },
   "source": [
    "## How we vectorize a sentence\n",
    "\n",
    "**step 1**: Create a vocabulary from the corpus.\n",
    "\n",
    "Example imagine my vocabulary is as follows:\n",
    "\n",
    "```['ended', 'everyone', 'field', 'football', 'game', 'he', 'in', 'is', 'it', 'playing', 'raining', 'running', 'started', 'the', 'towards', 'was', 'while']```\n",
    "\n",
    "Note that the length of the vocabulary array is 17 this is important to keep in mind for the next step."
   ]
  },
  {
   "cell_type": "markdown",
   "metadata": {
    "slideshow": {
     "slide_type": "slide"
    }
   },
   "source": [
    "**step 2**: Create an array of zeros with length 17(length of the vocabulary). The reason for this is because we want an arrays with the same lengths.\n",
    "\n",
    "**step 3**: Take the first word of a sentence you want to vectorize and count how many times the word occurs in that given sentence. Find the position of that word in the vocabulary and replace the zero value with the number you got from counting the total occurence of the first word. Repeat this process for all other words in the sentence you want to vectorize.\n",
    "\n"
   ]
  },
  {
   "cell_type": "markdown",
   "metadata": {
    "slideshow": {
     "slide_type": "slide"
    }
   },
   "source": [
    "Example let's vectorize the sentence **He is running while it is raining**.\n",
    "\n",
    "lets create the array in of zeros with size 17\n",
    "\n",
    "```[0, 0, 0, 0, 0, 0, 0, 0, 0, 0, 0, 0, 0, 0, 0, 0, 0]```\n",
    "\n",
    "First lets take **He** the first word\n",
    "\n",
    "**He** occures once in the senctence **He is running while it is raining**. And **He** is in position 6(5 for zero based indexing) so we replace zero to one at position 6.\n",
    "\n",
    "```[0, 0, 0, 0, 0, 1, 0, 0, 0, 0, 0, 0, 0, 0, 0, 0, 0]```\n"
   ]
  },
  {
   "cell_type": "markdown",
   "metadata": {
    "slideshow": {
     "slide_type": "slide"
    }
   },
   "source": [
    "We will repeat this for all the other words and finally we'll have the following vector\n",
    "\n",
    "```[0, 0, 0, 0, 0, 1, 0, 2, 1, 0, 1, 1, 0, 0, 0, 0, 1]```\n",
    "\n",
    "**Yes we did it :)!!**\n",
    "\n",
    "The resulting vector is also called a **feature vector**\n",
    "\n",
    "In a feature vector, each dimension can be a numeric or categorical feature. These feature could be the price of a stock,height of a building, in our case, the count or the frequency of a word in the  vocabulary."
   ]
  },
  {
   "cell_type": "markdown",
   "metadata": {
    "slideshow": {
     "slide_type": "slide"
    }
   },
   "source": [
    "## Vectorization With Sklearn\n",
    "\n",
    "We have done the vectorization theory now lets do the same think with sklearn in Python"
   ]
  },
  {
   "cell_type": "code",
   "execution_count": 276,
   "metadata": {
    "slideshow": {
     "slide_type": "slide"
    }
   },
   "outputs": [
    {
     "data": {
      "text/plain": [
       "{'He': 0,\n",
       " 'is': 7,\n",
       " 'playing': 9,\n",
       " 'on': 8,\n",
       " 'the': 13,\n",
       " 'field': 5,\n",
       " 'She': 3,\n",
       " 'dancing': 4,\n",
       " 'in': 6,\n",
       " 'rain': 10,\n",
       " 'Its': 2,\n",
       " 'raining': 11,\n",
       " 'It': 1,\n",
       " 'running': 12}"
      ]
     },
     "execution_count": 276,
     "metadata": {},
     "output_type": "execute_result"
    }
   ],
   "source": [
    "from sklearn.feature_extraction.text import CountVectorizer\n",
    "\n",
    "sentence = ['He is playing on the field', \"She is dancing in the rain\", \"Its raining\", \"It is running\"]\n",
    "\n",
    "vectorizer = CountVectorizer(min_df=0, lowercase = False)\n",
    "vectorizer.fit(sentence)\n",
    "vectorizer.vocabulary_"
   ]
  },
  {
   "cell_type": "markdown",
   "metadata": {
    "slideshow": {
     "slide_type": "slide"
    }
   },
   "source": [
    "Now we are able to obtain an indexed vocabulary. The vocabulary contains all the uique words in the sentences we passed. Now that we have train(fit) our vectorizer lets use it to get the count of each word in the sentences"
   ]
  },
  {
   "cell_type": "code",
   "execution_count": 277,
   "metadata": {
    "slideshow": {
     "slide_type": "slide"
    }
   },
   "outputs": [
    {
     "data": {
      "text/plain": [
       "array([[1, 0, 0, 0, 0, 1, 0, 1, 1, 1, 0, 0, 0, 1],\n",
       "       [0, 0, 0, 1, 1, 0, 1, 1, 0, 0, 1, 0, 0, 1],\n",
       "       [0, 0, 1, 0, 0, 0, 0, 0, 0, 0, 0, 1, 0, 0],\n",
       "       [0, 1, 0, 0, 0, 0, 0, 1, 0, 0, 0, 0, 1, 0]])"
      ]
     },
     "execution_count": 277,
     "metadata": {},
     "output_type": "execute_result"
    }
   ],
   "source": [
    "vectorizer.transform(sentence).toarray()"
   ]
  },
  {
   "cell_type": "markdown",
   "metadata": {
    "slideshow": {
     "slide_type": "slide"
    }
   },
   "source": [
    "We can see that in the first sentence, **He** has occured only once at in its index in the vocabulary is 0 so we have 1 at the first index in the firts array in the previous slide.\n",
    "\n",
    "On the other hand **is** in the first sentence has an index of 7 in the indexed vocabulary and has a count of 1 so at index 7 in the that array iin the previous slide, we'll place 1 at index 7. Repeat this process for all the othe words and sentences and you will have same array as in the previous slide."
   ]
  },
  {
   "cell_type": "code",
   "execution_count": 278,
   "metadata": {
    "slideshow": {
     "slide_type": "slide"
    }
   },
   "outputs": [
    {
     "data": {
      "text/plain": [
       "array([[1, 0, 0, 0, 1, 0, 0, 1, 0, 0, 0, 0, 0, 0]])"
      ]
     },
     "execution_count": 278,
     "metadata": {},
     "output_type": "execute_result"
    }
   ],
   "source": [
    "vectorizer.transform(['He is dancing']).toarray()"
   ]
  },
  {
   "cell_type": "markdown",
   "metadata": {
    "slideshow": {
     "slide_type": "slide"
    }
   },
   "source": [
    "What we just did is called a Bag Of Words(BOW). We used BOW to create a vector from text(corpus) and used it to create a feature-vector that we can use to train a ML of ANN to build a sentiment analyzer."
   ]
  },
  {
   "cell_type": "markdown",
   "metadata": {
    "slideshow": {
     "slide_type": "slide"
    }
   },
   "source": [
    "## Now Lets Apply This Knowledge.\n",
    "\n",
    "1. Split dataset into train and test sets\n",
    "2. create a vectorizer and fit it with the X_train data\n",
    "3. Transform the vectorizer and obtain X_train and X_test\n",
    "4. Build a model and fit it with the X_train,\n",
    "5. Evaluate the model."
   ]
  },
  {
   "cell_type": "code",
   "execution_count": 279,
   "metadata": {
    "slideshow": {
     "slide_type": "slide"
    }
   },
   "outputs": [
    {
     "data": {
      "text/html": [
       "<div>\n",
       "<style scoped>\n",
       "    .dataframe tbody tr th:only-of-type {\n",
       "        vertical-align: middle;\n",
       "    }\n",
       "\n",
       "    .dataframe tbody tr th {\n",
       "        vertical-align: top;\n",
       "    }\n",
       "\n",
       "    .dataframe thead th {\n",
       "        text-align: right;\n",
       "    }\n",
       "</style>\n",
       "<table border=\"1\" class=\"dataframe\">\n",
       "  <thead>\n",
       "    <tr style=\"text-align: right;\">\n",
       "      <th></th>\n",
       "      <th>sentence</th>\n",
       "      <th>label</th>\n",
       "      <th>source</th>\n",
       "    </tr>\n",
       "  </thead>\n",
       "  <tbody>\n",
       "    <tr>\n",
       "      <th>0</th>\n",
       "      <td>So there is no way for me to plug it in here i...</td>\n",
       "      <td>0</td>\n",
       "      <td>amazon</td>\n",
       "    </tr>\n",
       "    <tr>\n",
       "      <th>1</th>\n",
       "      <td>Good case, Excellent value.</td>\n",
       "      <td>1</td>\n",
       "      <td>amazon</td>\n",
       "    </tr>\n",
       "    <tr>\n",
       "      <th>2</th>\n",
       "      <td>Great for the jawbone.</td>\n",
       "      <td>1</td>\n",
       "      <td>amazon</td>\n",
       "    </tr>\n",
       "    <tr>\n",
       "      <th>3</th>\n",
       "      <td>Tied to charger for conversations lasting more...</td>\n",
       "      <td>0</td>\n",
       "      <td>amazon</td>\n",
       "    </tr>\n",
       "    <tr>\n",
       "      <th>4</th>\n",
       "      <td>The mic is great.</td>\n",
       "      <td>1</td>\n",
       "      <td>amazon</td>\n",
       "    </tr>\n",
       "    <tr>\n",
       "      <th>...</th>\n",
       "      <td>...</td>\n",
       "      <td>...</td>\n",
       "      <td>...</td>\n",
       "    </tr>\n",
       "    <tr>\n",
       "      <th>995</th>\n",
       "      <td>The screen does get smudged easily because it ...</td>\n",
       "      <td>0</td>\n",
       "      <td>amazon</td>\n",
       "    </tr>\n",
       "    <tr>\n",
       "      <th>996</th>\n",
       "      <td>What a piece of junk.. I lose more calls on th...</td>\n",
       "      <td>0</td>\n",
       "      <td>amazon</td>\n",
       "    </tr>\n",
       "    <tr>\n",
       "      <th>997</th>\n",
       "      <td>Item Does Not Match Picture.</td>\n",
       "      <td>0</td>\n",
       "      <td>amazon</td>\n",
       "    </tr>\n",
       "    <tr>\n",
       "      <th>998</th>\n",
       "      <td>The only thing that disappoint me is the infra...</td>\n",
       "      <td>0</td>\n",
       "      <td>amazon</td>\n",
       "    </tr>\n",
       "    <tr>\n",
       "      <th>999</th>\n",
       "      <td>You can not answer calls with the unit, never ...</td>\n",
       "      <td>0</td>\n",
       "      <td>amazon</td>\n",
       "    </tr>\n",
       "  </tbody>\n",
       "</table>\n",
       "<p>1000 rows × 3 columns</p>\n",
       "</div>"
      ],
      "text/plain": [
       "                                              sentence  label  source\n",
       "0    So there is no way for me to plug it in here i...      0  amazon\n",
       "1                          Good case, Excellent value.      1  amazon\n",
       "2                               Great for the jawbone.      1  amazon\n",
       "3    Tied to charger for conversations lasting more...      0  amazon\n",
       "4                                    The mic is great.      1  amazon\n",
       "..                                                 ...    ...     ...\n",
       "995  The screen does get smudged easily because it ...      0  amazon\n",
       "996  What a piece of junk.. I lose more calls on th...      0  amazon\n",
       "997                       Item Does Not Match Picture.      0  amazon\n",
       "998  The only thing that disappoint me is the infra...      0  amazon\n",
       "999  You can not answer calls with the unit, never ...      0  amazon\n",
       "\n",
       "[1000 rows x 3 columns]"
      ]
     },
     "execution_count": 279,
     "metadata": {},
     "output_type": "execute_result"
    }
   ],
   "source": [
    "from sklearn.model_selection import train_test_split\n",
    "\n",
    "df_amazon = df[df['source'] == 'amazon']\n",
    "\n",
    "df_amazon"
   ]
  },
  {
   "cell_type": "code",
   "execution_count": 280,
   "metadata": {
    "slideshow": {
     "slide_type": "slide"
    }
   },
   "outputs": [],
   "source": [
    "sentences = df_amazon['sentence'].values\n",
    "labels = df_amazon['label'].values\n",
    "\n",
    "X_train, X_test, y_train, y_test = train_test_split(sentences, labels, train_size = 0.8, random_state = 200)"
   ]
  },
  {
   "cell_type": "code",
   "execution_count": 281,
   "metadata": {
    "slideshow": {
     "slide_type": "slide"
    }
   },
   "outputs": [],
   "source": [
    "X_train_sentence = X_train\n",
    "X_test_sentence = X_test"
   ]
  },
  {
   "cell_type": "code",
   "execution_count": 282,
   "metadata": {
    "slideshow": {
     "slide_type": "slide"
    }
   },
   "outputs": [
    {
     "data": {
      "text/plain": [
       "array(['The text messaging feature is really tricky to use.',\n",
       "       'The calls drop, the phone comes on and off at will, the screen goes black and the worst of all it stops ringing intermittently.',\n",
       "       'It works fine on my Motorola 325 cellphone, and a lot better than the worn-out battery did.',\n",
       "       'I put the latest OS on it (v1.15g), and it now likes to slow to a crawl and lock up every once in a while.'],\n",
       "      dtype=object)"
      ]
     },
     "execution_count": 282,
     "metadata": {},
     "output_type": "execute_result"
    }
   ],
   "source": [
    "X_train[:4]"
   ]
  },
  {
   "cell_type": "code",
   "execution_count": 283,
   "metadata": {
    "slideshow": {
     "slide_type": "slide"
    }
   },
   "outputs": [
    {
     "data": {
      "text/plain": [
       "array([0, 0, 1, 0])"
      ]
     },
     "execution_count": 283,
     "metadata": {},
     "output_type": "execute_result"
    }
   ],
   "source": [
    "y_train[:4]"
   ]
  },
  {
   "cell_type": "code",
   "execution_count": 284,
   "metadata": {
    "slideshow": {
     "slide_type": "slide"
    }
   },
   "outputs": [],
   "source": [
    "vectorizer = CountVectorizer(lowercase = False, min_df = 0)\n",
    "vectorizer.fit(X_train)\n",
    "X_train = vectorizer.transform(X_train)\n",
    "X_test = vectorizer.transform(X_test)"
   ]
  },
  {
   "cell_type": "code",
   "execution_count": 285,
   "metadata": {
    "scrolled": true,
    "slideshow": {
     "slide_type": "slide"
    }
   },
   "outputs": [
    {
     "data": {
      "text/plain": [
       "<800x1937 sparse matrix of type '<class 'numpy.int64'>'\n",
       "\twith 7420 stored elements in Compressed Sparse Row format>"
      ]
     },
     "execution_count": 285,
     "metadata": {},
     "output_type": "execute_result"
    }
   ],
   "source": [
    "X_train"
   ]
  },
  {
   "cell_type": "markdown",
   "metadata": {
    "slideshow": {
     "slide_type": "slide"
    }
   },
   "source": [
    "We can see that the X_train shape is 200 rows and 769 dimensions which is the size of the vocabulary. The data type is Sparse matrix which is the matrix which only keeps track of the non-zero elements since they a few non-zero elements hence we reduce the memory footprint(he amount of main memory that a program uses or references while running)\n",
    "\n",
    "**What the countVectorizer does**\n",
    "\n",
    "It tokenizes the sentense(breaking a sentence down to its individual words), remove punctuations and other stop words and then does the vectorization. You can read more about it in ```intro_day_01.ipynb``` in this repo.\n",
    "\n",
    "To have full control of how this is done, you can use a library like [Spacy](https://spacy.io/)"
   ]
  },
  {
   "cell_type": "code",
   "execution_count": 286,
   "metadata": {
    "slideshow": {
     "slide_type": "slide"
    }
   },
   "outputs": [
    {
     "data": {
      "text/plain": [
       "array([[0, 0, 0, ..., 0, 0, 0],\n",
       "       [0, 0, 0, ..., 0, 0, 0],\n",
       "       [0, 0, 0, ..., 0, 0, 0],\n",
       "       ...,\n",
       "       [0, 0, 0, ..., 0, 1, 0],\n",
       "       [0, 0, 0, ..., 0, 0, 0],\n",
       "       [0, 0, 0, ..., 0, 0, 0]])"
      ]
     },
     "execution_count": 286,
     "metadata": {},
     "output_type": "execute_result"
    }
   ],
   "source": [
    "X_train.toarray()"
   ]
  },
  {
   "cell_type": "markdown",
   "metadata": {
    "slideshow": {
     "slide_type": "slide"
    }
   },
   "source": [
    "## Let's Build A Model"
   ]
  },
  {
   "cell_type": "code",
   "execution_count": 287,
   "metadata": {
    "slideshow": {
     "slide_type": "slide"
    }
   },
   "outputs": [],
   "source": [
    "from sklearn.linear_model import LogisticRegression"
   ]
  },
  {
   "cell_type": "code",
   "execution_count": 288,
   "metadata": {
    "slideshow": {
     "slide_type": "slide"
    }
   },
   "outputs": [
    {
     "data": {
      "text/plain": [
       "LogisticRegression()"
      ]
     },
     "execution_count": 288,
     "metadata": {},
     "output_type": "execute_result"
    }
   ],
   "source": [
    "model = LogisticRegression()\n",
    "model.fit(X_train, y_train)"
   ]
  },
  {
   "cell_type": "code",
   "execution_count": 289,
   "metadata": {
    "slideshow": {
     "slide_type": "slide"
    }
   },
   "outputs": [
    {
     "data": {
      "text/plain": [
       "0.81"
      ]
     },
     "execution_count": 289,
     "metadata": {},
     "output_type": "execute_result"
    }
   ],
   "source": [
    "model.score(X_test, y_test)"
   ]
  },
  {
   "cell_type": "markdown",
   "metadata": {
    "slideshow": {
     "slide_type": "slide"
    }
   },
   "source": [
    "## Build The Same Thing With Kera"
   ]
  },
  {
   "cell_type": "code",
   "execution_count": 290,
   "metadata": {
    "slideshow": {
     "slide_type": "slide"
    }
   },
   "outputs": [],
   "source": [
    "from tensorflow.keras.models import Sequential\n",
    "from tensorflow.keras.layers import Dense, Activation"
   ]
  },
  {
   "cell_type": "code",
   "execution_count": 291,
   "metadata": {
    "slideshow": {
     "slide_type": "slide"
    }
   },
   "outputs": [],
   "source": [
    "model = Sequential()\n",
    "model.add(Dense(15, input_shape = (X_train.shape[1], )))\n",
    "model.add(Activation('relu'))\n",
    "model.add(Dense(1))\n",
    "model.add(Activation('sigmoid'))"
   ]
  },
  {
   "cell_type": "code",
   "execution_count": 292,
   "metadata": {
    "slideshow": {
     "slide_type": "slide"
    }
   },
   "outputs": [],
   "source": [
    "model.compile(optimizer = 'adam',\n",
    "             loss = 'binary_crossentropy',\n",
    "             metrics = 'accuracy')"
   ]
  },
  {
   "cell_type": "code",
   "execution_count": 293,
   "metadata": {
    "slideshow": {
     "slide_type": "slide"
    }
   },
   "outputs": [],
   "source": [
    "model_history = model.fit(X_train, y_train,\n",
    "                         verbose=False,\n",
    "                         validation_data = (X_test, y_test),\n",
    "                         epochs = 100,\n",
    "                         )"
   ]
  },
  {
   "cell_type": "code",
   "execution_count": 294,
   "metadata": {
    "slideshow": {
     "slide_type": "slide"
    }
   },
   "outputs": [
    {
     "name": "stdout",
     "output_type": "stream",
     "text": [
      "25/25 [==============================] - 0s 5ms/step - loss: 0.0018 - accuracy: 1.0000\n",
      "7/7 [==============================] - 0s 6ms/step - loss: 0.6060 - accuracy: 0.7850\n"
     ]
    }
   ],
   "source": [
    "loss_train, accuracy_train = model.evaluate(X_train, y_train)\n",
    "loss_test, accuracy_test = model.evaluate(X_test, y_test)"
   ]
  },
  {
   "cell_type": "code",
   "execution_count": 295,
   "metadata": {
    "slideshow": {
     "slide_type": "slide"
    }
   },
   "outputs": [
    {
     "name": "stdout",
     "output_type": "stream",
     "text": [
      "Training Loss 0.002\n",
      "Training Accuracy 1.000\n",
      "Testing Loss 0.606\n",
      "Testing Accuracy 0.785\n"
     ]
    }
   ],
   "source": [
    "print(\"Training Loss {:.3f}\".format(loss_train))\n",
    "print(\"Training Accuracy {:.3f}\".format(accuracy_train))\n",
    "print(\"Testing Loss {:.3f}\".format(loss_test))\n",
    "print(\"Testing Accuracy {:.3f}\".format(accuracy_test))"
   ]
  },
  {
   "cell_type": "code",
   "execution_count": 296,
   "metadata": {
    "slideshow": {
     "slide_type": "slide"
    }
   },
   "outputs": [],
   "source": [
    "from matplotlib import pyplot as plt"
   ]
  },
  {
   "cell_type": "code",
   "execution_count": 297,
   "metadata": {
    "slideshow": {
     "slide_type": "slide"
    }
   },
   "outputs": [
    {
     "data": {
      "text/plain": [
       "dict_keys(['loss', 'accuracy', 'val_loss', 'val_accuracy'])"
      ]
     },
     "execution_count": 297,
     "metadata": {},
     "output_type": "execute_result"
    }
   ],
   "source": [
    "model_history.history.keys()"
   ]
  },
  {
   "cell_type": "code",
   "execution_count": 298,
   "metadata": {
    "slideshow": {
     "slide_type": "slide"
    }
   },
   "outputs": [],
   "source": [
    "def plot_evaluate(model_history):\n",
    "    acc = model_history.history['accuracy']\n",
    "    val_acc = model_history.history['val_accuracy']\n",
    "    loss = model_history.history['loss']\n",
    "    val_loss = model_history.history['val_loss']\n",
    "    \n",
    "    x = range(1, len(acc) + 1)\n",
    "    plt.style.use('ggplot')\n",
    "\n",
    "    plt.figure(figsize = (12, 7))\n",
    "    #     plt.subplot(nrows, ncols, index)\n",
    "    plt.subplot(1, 2, 1)\n",
    "    plt.plot(x, acc, color = \"red\", label = \"Training Accuracy\")\n",
    "    plt.plot(x, val_acc, color = 'orange', label = \"Validation Accuracy\")\n",
    "    plt.title(\"Training and Validation Accuracy Plot\")\n",
    "    plt.xlabel(\"Epochs\")\n",
    "    plt.legend()\n",
    "    plt.subplot(1, 2, 2)\n",
    "    plt.plot(x, loss, color = \"red\", label = \"Training Loss\")\n",
    "    plt.plot(x, val_loss, color  = \"orange\", label = \"Validation Loss\")\n",
    "    plt.title(\"Testing and Validation Loss Plot\")\n",
    "    plt.xlabel(\"Epochs\")\n",
    "    plt.show()"
   ]
  },
  {
   "cell_type": "code",
   "execution_count": 299,
   "metadata": {
    "slideshow": {
     "slide_type": "slide"
    }
   },
   "outputs": [
    {
     "data": {
      "image/png": "[encoded data removed]",
      "text/plain": [
       "<Figure size 864x504 with 2 Axes>"
      ]
     },
     "metadata": {},
     "output_type": "display_data"
    }
   ],
   "source": [
    "plot_evaluate(model_history)"
   ]
  },
  {
   "cell_type": "markdown",
   "metadata": {
    "slideshow": {
     "slide_type": "slide"
    }
   },
   "source": [
    "The model has reached a 100% accuracy, this is too much training(epochs). Our model is overfitting and a good way to see that is  when the loss of the validation data starts rising again. This can be seen around the 30-40 epochs. This is the time to stop training the model. So lets run ony 30 epochs."
   ]
  },
  {
   "cell_type": "markdown",
   "metadata": {
    "slideshow": {
     "slide_type": "slide"
    }
   },
   "source": [
    "## Word Embeddings"
   ]
  },
  {
   "cell_type": "markdown",
   "metadata": {
    "slideshow": {
     "slide_type": "slide"
    }
   },
   "source": [
    "Just like time series, stock prices and weather data, text is sequential since the previuos word has a impact on the meaning of the sentence.\n",
    "\n",
    "When using an ANN, we need to feed it with alot of data to do this we can form a vector of each word instead of a vector of the whole sentence. Unlike in the BOW model where we encoded sentences into a single feature-vector,lets see how we can generat more data for out ANN model by encoding each word into its feature-vector.\n",
    "\n",
    "\n",
    "**We can represent words as vectors using**\n",
    "\n",
    "- [One-Hot-Encoding](https://scikit-learn.org/stable/modules/generated/sklearn.preprocessing.OneHotEncoder.html)\n",
    "- [Word Embedding](https://towardsdatascience.com/introduction-to-word-embedding-and-word2vec-652d0c2060fa)"
   ]
  },
  {
   "cell_type": "markdown",
   "metadata": {
    "slideshow": {
     "slide_type": "slide"
    }
   },
   "source": [
    "## Word Embedding\n",
    "\n",
    "This is a vector representation of a particular word.\n",
    "\n",
    "Word embedding is one of the most popular representation of document vocabulary. It is capable of capturing context of a word in a document, semantic and syntactic similarity, relation with other words, etc.[Dhruvil Karani - Towards data science](https://towardsdatascience.com/introduction-to-word-embedding-and-word2vec-652d0c2060fa)\n",
    "\n",
    "The aim of word embedding it to to make words with similar meaning into a closer spatial position and map semantically similar words into closer geometric space. The geometric space is called embedding space."
   ]
  },
  {
   "cell_type": "markdown",
   "metadata": {
    "slideshow": {
     "slide_type": "slide"
    }
   },
   "source": [
    "## Prepare data for word embedding\n",
    "\n",
    "We need to tokenize or corpus into a format that can be used by for word embedding.\n",
    "\n",
    "\n",
    "Keras has two main ways for doing this:\n",
    "\n",
    "- Text preprocessing\n",
    "- Sequence preprocessing"
   ]
  },
  {
   "cell_type": "code",
   "execution_count": 300,
   "metadata": {
    "slideshow": {
     "slide_type": "slide"
    }
   },
   "outputs": [],
   "source": [
    "from tensorflow.keras.preprocessing.text import Tokenizer"
   ]
  },
  {
   "cell_type": "code",
   "execution_count": 301,
   "metadata": {
    "slideshow": {
     "slide_type": "slide"
    }
   },
   "outputs": [],
   "source": [
    "tokenizer = Tokenizer(num_words = 5000)\n",
    "tokenizer.fit_on_texts(X_train_sentence)\n",
    "X_train = tokenizer.texts_to_sequences(X_train_sentence)\n",
    "X_test = tokenizer.texts_to_sequences(X_test_sentence)"
   ]
  },
  {
   "cell_type": "code",
   "execution_count": 302,
   "metadata": {
    "slideshow": {
     "slide_type": "slide"
    }
   },
   "outputs": [
    {
     "name": "stdout",
     "output_type": "stream",
     "text": [
      "The calls drop, the phone comes on and off at will, the screen goes black and the worst of all it stops ringing intermittently.\n",
      "[1, 138, 359, 1, 9, 279, 18, 3, 120, 59, 90, 1, 139, 280, 200, 3, 1, 152, 12, 36, 4, 715, 476, 716]\n"
     ]
    }
   ],
   "source": [
    "print(X_train_sentence[1])\n",
    "print(X_train[1])"
   ]
  },
  {
   "cell_type": "markdown",
   "metadata": {
    "slideshow": {
     "slide_type": "slide"
    }
   },
   "source": [
    "## What the Tokenizer Class Does?\n",
    "\n",
    "The Tokenizer class vectorizes the corpus into an array of integers, each integer maps to a word in the vocabulary obtained from the corpus. The vocabulary is dictionary in which the keys are the vocabularies while the values are the keys.\n",
    "\n",
    "```num``` determines the size of the vocabulary"
   ]
  },
  {
   "cell_type": "markdown",
   "metadata": {
    "slideshow": {
     "slide_type": "slide"
    }
   },
   "source": [
    "The indexing is in order of the most frequently occuring word to the least frequently occuring word. The words indexing starts from index 1 since index 0 is reserved for padding purposes.\n",
    "\n",
    "Lets take a look at the index of words."
   ]
  },
  {
   "cell_type": "code",
   "execution_count": 303,
   "metadata": {},
   "outputs": [
    {
     "data": {
      "text/plain": [
       "1682"
      ]
     },
     "execution_count": 303,
     "metadata": {},
     "output_type": "execute_result"
    }
   ],
   "source": [
    "len(tokenizer.word_index)"
   ]
  },
  {
   "cell_type": "code",
   "execution_count": 304,
   "metadata": {
    "slideshow": {
     "slide_type": "slide"
    }
   },
   "outputs": [
    {
     "data": {
      "text/plain": [
       "1"
      ]
     },
     "execution_count": 304,
     "metadata": {},
     "output_type": "execute_result"
    }
   ],
   "source": [
    "tokenizer.word_index[\"the\"]"
   ]
  },
  {
   "cell_type": "markdown",
   "metadata": {
    "slideshow": {
     "slide_type": "slide"
    }
   },
   "source": [
    "**the** is the most frequently occuring word.\n",
    "\n",
    "**note** When using the sklearn CountVectorizer, the length of each sentence is the same as the vocabulary length but, when using the Tokenizer class the size of the sentence vector is the same as the total number of words in that sentence."
   ]
  },
  {
   "cell_type": "markdown",
   "metadata": {
    "slideshow": {
     "slide_type": "slide"
    }
   },
   "source": [
    "## Need For Padding\n",
    "\n",
    "As I mentioned earlier, the size of each text vector is the same as the total number of words that make up the text we tokenized. This is a problem because we have a group of vectors that are of different lengths for most of the time. We need to make all vectors of same length, we can do this by padding the vectors but, we need to also set a fixed length for all the vectors. To pad the vectors that do not much  up tho the specified max length, we add(insert into) zero to the vectors. Vectors that are longer in length than the specified max_size will be cut off. We can do a post or pre padding. In post padding the padding will be done after the sequence and vice versa."
   ]
  },
  {
   "cell_type": "code",
   "execution_count": 305,
   "metadata": {
    "slideshow": {
     "slide_type": "slide"
    }
   },
   "outputs": [
    {
     "name": "stdout",
     "output_type": "stream",
     "text": [
      "[[  1 712 713 ...   0   0   0]\n",
      " [  1 138 359 ...   0   0   0]\n",
      " [  4  30 121 ...   0   0   0]\n",
      " ...\n",
      " [  2  70 154 ...   0   0   0]\n",
      " [191   2 580 ...   0   0   0]\n",
      " [  1 230 710 ...   0   0   0]]\n"
     ]
    }
   ],
   "source": [
    "from tensorflow.keras.preprocessing.sequence import pad_sequences\n",
    "\n",
    "max_size = 100\n",
    "\n",
    "X_train = pad_sequences(X_train, padding = 'post', maxlen = max_size)\n",
    "X_test = pad_sequences(X_test, padding = 'post', maxlen = max_size)\n",
    "\n",
    "print(X_train)"
   ]
  },
  {
   "cell_type": "markdown",
   "metadata": {
    "slideshow": {
     "slide_type": "slide"
    }
   },
   "source": [
    "## Embedding Layer\n",
    "\n",
    "After we have tokenize and padded or sentences, its time we pass thr results to an embedding layer to do all the learning of new embedding space.The embedding layer takes the previously calculated integers and maps them to a dense vector of the embedding."
   ]
  },
  {
   "cell_type": "code",
   "execution_count": 306,
   "metadata": {
    "slideshow": {
     "slide_type": "slide"
    }
   },
   "outputs": [],
   "source": [
    "from tensorflow.keras.models import Sequential\n",
    "from tensorflow.keras.layers import Dense, Embedding, Flatten, Activation, GlobalMaxPool1D, MaxPooling1D, Conv1D"
   ]
  },
  {
   "cell_type": "code",
   "execution_count": 307,
   "metadata": {
    "slideshow": {
     "slide_type": "slide"
    }
   },
   "outputs": [],
   "source": [
    "vocal_size = len(tokenizer.word_index) + 1\n",
    "embedding_dim = 50"
   ]
  },
  {
   "cell_type": "code",
   "execution_count": 308,
   "metadata": {
    "slideshow": {
     "slide_type": "slide"
    }
   },
   "outputs": [],
   "source": [
    "model = Sequential()\n",
    "\n",
    "model.add(Embedding(input_dim = vocal_size,\n",
    "                   output_dim = embedding_dim,\n",
    "                   input_length = max_size))\n",
    "\n",
    "model.add(MaxPooling1D())\n",
    "model.add(Dense(10))\n",
    "model.add(Activation(\"relu\"))\n",
    "model.add(Dense(1))\n",
    "model.add(Activation('sigmoid'))"
   ]
  },
  {
   "cell_type": "code",
   "execution_count": 309,
   "metadata": {
    "slideshow": {
     "slide_type": "slide"
    }
   },
   "outputs": [],
   "source": [
    "model.compile(optimizer = 'adam',\n",
    "             loss = \"binary_crossentropy\",\n",
    "             metrics = ['accuracy'])"
   ]
  },
  {
   "cell_type": "code",
   "execution_count": 310,
   "metadata": {
    "slideshow": {
     "slide_type": "slide"
    }
   },
   "outputs": [
    {
     "name": "stdout",
     "output_type": "stream",
     "text": [
      "Model: \"sequential_87\"\n",
      "_________________________________________________________________\n",
      "Layer (type)                 Output Shape              Param #   \n",
      "=================================================================\n",
      "embedding_81 (Embedding)     (None, 100, 50)           84150     \n",
      "_________________________________________________________________\n",
      "max_pooling1d_4 (MaxPooling1 (None, 50, 50)            0         \n",
      "_________________________________________________________________\n",
      "dense_172 (Dense)            (None, 50, 10)            510       \n",
      "_________________________________________________________________\n",
      "activation_241 (Activation)  (None, 50, 10)            0         \n",
      "_________________________________________________________________\n",
      "dense_173 (Dense)            (None, 50, 1)             11        \n",
      "_________________________________________________________________\n",
      "activation_242 (Activation)  (None, 50, 1)             0         \n",
      "=================================================================\n",
      "Total params: 84,671\n",
      "Trainable params: 84,671\n",
      "Non-trainable params: 0\n",
      "_________________________________________________________________\n"
     ]
    }
   ],
   "source": [
    "model.summary()"
   ]
  },
  {
   "cell_type": "code",
   "execution_count": 311,
   "metadata": {
    "slideshow": {
     "slide_type": "slide"
    }
   },
   "outputs": [],
   "source": [
    "model_history2 = model.fit(X_train,\n",
    "                         y_train,\n",
    "                         validation_data = (X_test, y_test),\n",
    "                         epochs = 50,\n",
    "                         verbose = False,\n",
    "                         batch_size = 10\n",
    "                        )"
   ]
  },
  {
   "cell_type": "code",
   "execution_count": 312,
   "metadata": {
    "slideshow": {
     "slide_type": "slide"
    }
   },
   "outputs": [
    {
     "data": {
      "image/png": "[encoded data removed]",
      "text/plain": [
       "<Figure size 864x504 with 2 Axes>"
      ]
     },
     "metadata": {},
     "output_type": "display_data"
    }
   ],
   "source": [
    "plot_evaluate(model_history2)"
   ]
  },
  {
   "cell_type": "code",
   "execution_count": 313,
   "metadata": {
    "scrolled": true,
    "slideshow": {
     "slide_type": "slide"
    }
   },
   "outputs": [
    {
     "name": "stdout",
     "output_type": "stream",
     "text": [
      "Training accuracy : 0.5453 \n",
      "Training loss : 0.6350\n",
      "Test accuracy : 0.5181 \n",
      "Test loss : 0.7605\n"
     ]
    }
   ],
   "source": [
    "loss_train, acc_train = model.evaluate(X_train, y_train, verbose = False)\n",
    "loss_test, acc_test = model.evaluate(X_test, y_test, verbose = False)\n",
    "print(\"Training accuracy : {:.4f} \\nTraining loss : {:.4f}\".format(acc_train, loss_train))\n",
    "print(\"Test accuracy : {:.4f} \\nTest loss : {:.4f}\".format(acc_test, loss_test))"
   ]
  },
  {
   "cell_type": "markdown",
   "metadata": {
    "slideshow": {
     "slide_type": "slide"
    }
   },
   "source": [
    "## Model Improvements\n",
    "\n",
    "Another way to work with embeddings is by using a MaxPooling1D/AveragePooling1D or a GlobalMaxPooling1D/GlobalAveragePooling1D layer after the embedding, this is for the purpose of downsampling(reducing the size of the input feature vector)."
   ]
  },
  {
   "cell_type": "code",
   "execution_count": 314,
   "metadata": {
    "slideshow": {
     "slide_type": "slide"
    }
   },
   "outputs": [],
   "source": [
    "from tensorflow.keras.layers import GlobalMaxPool1D"
   ]
  },
  {
   "cell_type": "code",
   "execution_count": 315,
   "metadata": {
    "slideshow": {
     "slide_type": "slide"
    }
   },
   "outputs": [],
   "source": [
    "model = Sequential()\n",
    "\n",
    "model.add(Embedding(input_dim = vocal_size,\n",
    "                   output_dim = embedding_dim,\n",
    "                   input_length = max_size))\n",
    "\n",
    "model.add(GlobalMaxPool1D())\n",
    "model.add(Dense(10)),\n",
    "model.add(Activation('relu'))\n",
    "model.add(Dense(1))\n",
    "model.add(Activation('sigmoid'))\n"
   ]
  },
  {
   "cell_type": "code",
   "execution_count": 316,
   "metadata": {
    "slideshow": {
     "slide_type": "slide"
    }
   },
   "outputs": [],
   "source": [
    "model.compile(optimizer = 'adam',\n",
    "             loss = 'binary_crossentropy',\n",
    "             metrics = ['accuracy'])"
   ]
  },
  {
   "cell_type": "code",
   "execution_count": 317,
   "metadata": {
    "slideshow": {
     "slide_type": "slide"
    }
   },
   "outputs": [],
   "source": [
    "model_history3 = model.fit(X_train,\n",
    "                          y_train,\n",
    "                          epochs = 50,\n",
    "                          validation_data = (X_test, y_test),\n",
    "                          batch_size = 10,\n",
    "                          verbose = False)"
   ]
  },
  {
   "cell_type": "code",
   "execution_count": 318,
   "metadata": {
    "slideshow": {
     "slide_type": "slide"
    }
   },
   "outputs": [
    {
     "data": {
      "image/png": "[encoded data removed]",
      "text/plain": [
       "<Figure size 864x504 with 2 Axes>"
      ]
     },
     "metadata": {},
     "output_type": "display_data"
    }
   ],
   "source": [
    "plot_evaluate(model_history3)"
   ]
  },
  {
   "cell_type": "code",
   "execution_count": 319,
   "metadata": {
    "slideshow": {
     "slide_type": "slide"
    }
   },
   "outputs": [
    {
     "name": "stdout",
     "output_type": "stream",
     "text": [
      "Training accuracy : 1.0000 \n",
      "Training loss : 0.0001\n",
      "Test accuracy : 0.8200 \n",
      "Test loss : 0.6407\n"
     ]
    }
   ],
   "source": [
    "loss_train, acc_train = model.evaluate(X_train, y_train, verbose = False)\n",
    "loss_test, acc_test = model.evaluate(X_test, y_test, verbose = False)\n",
    "print(\"Training accuracy : {:.4f} \\nTraining loss : {:.4f}\".format(acc_train, loss_train))\n",
    "print(\"Test accuracy : {:.4f} \\nTest loss : {:.4f}\".format(acc_test, loss_test))"
   ]
  },
  {
   "cell_type": "markdown",
   "metadata": {
    "slideshow": {
     "slide_type": "slide"
    }
   },
   "source": [
    "## Pretrained Embeddings\n",
    "\n",
    "We can also use pretrained embeddings that utilize a larget set of corpus. These pretrained embeddings are obtained by trainig data on a large set of corpus. The most popular pretrained embeddings inlude [Word2Vec](https://papers.nips.cc/paper/2013/file/9aa42b31882ec039965f3c4923ce901b-Paper.pdf) and [GloVe](https://nlp.stanford.edu/projects/glove/)\n",
    "\n",
    "**Word2Vec**: This captures the similarity between the context in which a word could be used.\n",
    "\n",
    "**GloVe**: This captures and place word that have a higher probability of occuring together in closer embeddin space. Focuses on words co-occurrences over the whole corpus, The probability of two words occuring together in a text.\n",
    "\n",
    "\n",
    "#### [More Reading](https://towardsdatascience.com/the-three-main-branches-of-word-embeddings-7b90fa36dfb9)\n",
    "\n",
    "Depending on what we want to use, there are certain tradeoffs. Word2Vec achieves embedding using neural networks and GloVe achieves this using a co-occurrence matrix and matrix factorization. Both approaches deal with dimensionality reduction but, Word2Vec is more accurate and GloVe is faster to compute.\n",
    "\n",
    "You can build you own word embeddig with this python [package](https://radimrehurek.com/gensim/index.html).\n",
    "Read more about this package [here](https://radimrehurek.com/gensim/models/word2vec.html)\n",
    "\n",
    "Go ahead and download the pretained word embedding of GloVe"
   ]
  },
  {
   "cell_type": "markdown",
   "metadata": {
    "slideshow": {
     "slide_type": "slide"
    }
   },
   "source": [
    "## Loading The Pretrained Word Embedding\n",
    "\n",
    "The pretrain embedding consists of a file, each line of the file has a word followed by the embedding vector for that particular word. We don't need all the word, we only need the ones in our vocabulary so we need to write code to only extract the ones in our vocabulary."
   ]
  },
  {
   "cell_type": "code",
   "execution_count": 320,
   "metadata": {
    "slideshow": {
     "slide_type": "slide"
    }
   },
   "outputs": [],
   "source": [
    "import numpy as np\n",
    "\n",
    "def create_embedding_matrix(filepath, word_index, embedding_dim):\n",
    "    vocab_size = len(word_index) + 1  # Adding again 1 because of reserved 0 index\n",
    "    embedding_matrix = np.zeros((vocab_size, embedding_dim)) \n",
    "    # creating an array of zeros to store only the word from our vocabulary\n",
    "\n",
    "    with open(filepath) as f: #open file with a context manager.\n",
    "        for line in f:\n",
    "            word, *vector = line.split() # splitting each line into a word and embedding vector component\n",
    "            if word in word_index: # using only words from our vocabulary.\n",
    "                idx = word_index[word] # getting the index of each word from our vocabulary.\n",
    "                embedding_matrix[idx] = np.array(\n",
    "                    vector, dtype=np.float32)[:embedding_dim] # creating a constand dim for all arrays and\n",
    "                #replacing the existing zero array. If the word does not exist in the pretrained model,\n",
    "                # the vector at this index will remain a zero vector.\n",
    "\n",
    "    return embedding_matrix"
   ]
  },
  {
   "cell_type": "code",
   "execution_count": 321,
   "metadata": {
    "slideshow": {
     "slide_type": "slide"
    }
   },
   "outputs": [],
   "source": [
    "embedding_dim = 50\n",
    "embedding_matrix = create_embedding_matrix(\n",
    "    'data/glove.6B/glove.6B.50d.txt',\n",
    "    tokenizer.word_index, embedding_dim)"
   ]
  },
  {
   "cell_type": "markdown",
   "metadata": {
    "slideshow": {
     "slide_type": "slide"
    }
   },
   "source": [
    "Now that we have that set up lets go ahead and train the model.\n",
    "\n",
    "Before that lets keep in mind that the pretained model can be trained additionally in our own model during training, we can set trainable to True or False to allow training or not allow training. Allowing training makes the model accuracy better. \n",
    "\n",
    "First lets check how many words have been found in the pretained model."
   ]
  },
  {
   "cell_type": "code",
   "execution_count": 322,
   "metadata": {
    "slideshow": {
     "slide_type": "slide"
    }
   },
   "outputs": [
    {
     "data": {
      "text/plain": [
       "0.9417706476530006"
      ]
     },
     "execution_count": 322,
     "metadata": {},
     "output_type": "execute_result"
    }
   ],
   "source": [
    "nonzeros = np.count_nonzero(np.count_nonzero(embedding_matrix, axis = 1))\n",
    "nonzeros/vocal_size"
   ]
  },
  {
   "cell_type": "code",
   "execution_count": 323,
   "metadata": {
    "slideshow": {
     "slide_type": "slide"
    }
   },
   "outputs": [],
   "source": [
    "model = Sequential()\n",
    "\n",
    "model.add(Embedding(vocal_size, embedding_dim,\n",
    "                   weights = [embedding_matrix], \n",
    "                   input_length = max_size,\n",
    "                   trainable=True))\n",
    "model.add(GlobalMaxPool1D())\n",
    "model.add(Dense(10))\n",
    "model.add(Activation('relu'))\n",
    "model.add(Dense(1))\n",
    "model.add(Activation('sigmoid'))"
   ]
  },
  {
   "cell_type": "code",
   "execution_count": 324,
   "metadata": {
    "slideshow": {
     "slide_type": "slide"
    }
   },
   "outputs": [],
   "source": [
    "model.compile(optimizer='adam',\n",
    "              loss='binary_crossentropy',\n",
    "              metrics=['accuracy'])"
   ]
  },
  {
   "cell_type": "code",
   "execution_count": 325,
   "metadata": {
    "slideshow": {
     "slide_type": "slide"
    }
   },
   "outputs": [
    {
     "name": "stdout",
     "output_type": "stream",
     "text": [
      "Model: \"sequential_89\"\n",
      "_________________________________________________________________\n",
      "Layer (type)                 Output Shape              Param #   \n",
      "=================================================================\n",
      "embedding_83 (Embedding)     (None, 100, 50)           84150     \n",
      "_________________________________________________________________\n",
      "global_max_pooling1d_78 (Glo (None, 50)                0         \n",
      "_________________________________________________________________\n",
      "dense_176 (Dense)            (None, 10)                510       \n",
      "_________________________________________________________________\n",
      "activation_245 (Activation)  (None, 10)                0         \n",
      "_________________________________________________________________\n",
      "dense_177 (Dense)            (None, 1)                 11        \n",
      "_________________________________________________________________\n",
      "activation_246 (Activation)  (None, 1)                 0         \n",
      "=================================================================\n",
      "Total params: 84,671\n",
      "Trainable params: 84,671\n",
      "Non-trainable params: 0\n",
      "_________________________________________________________________\n"
     ]
    }
   ],
   "source": [
    "model.summary()"
   ]
  },
  {
   "cell_type": "code",
   "execution_count": 326,
   "metadata": {
    "slideshow": {
     "slide_type": "slide"
    }
   },
   "outputs": [],
   "source": [
    "model_history4 = model.fit(X_train, \n",
    "                          y_train,\n",
    "                         epochs = 50,\n",
    "                         validation_data = (X_test, y_test),\n",
    "                         verbose = False,\n",
    "                         batch_size = 10)"
   ]
  },
  {
   "cell_type": "code",
   "execution_count": 327,
   "metadata": {
    "slideshow": {
     "slide_type": "slide"
    }
   },
   "outputs": [
    {
     "name": "stdout",
     "output_type": "stream",
     "text": [
      "Train loss: 0.0010\n",
      "Train accuracy: 1.0000\n",
      "Test loss: 0.5683\n",
      "Test accuracy: 0.8150\n"
     ]
    }
   ],
   "source": [
    "train_loss, train_accuracy = model.evaluate(X_train, y_train, verbose = False)\n",
    "test_loss, test_accuracy = model.evaluate(X_test, y_test, verbose = False)\n",
    "print(\"Train loss: {:.4f}\\nTrain accuracy: {:.4f}\".format(train_loss, train_accuracy))\n",
    "print(\"Test loss: {:.4f}\\nTest accuracy: {:.4f}\".format(test_loss, test_accuracy))"
   ]
  },
  {
   "cell_type": "code",
   "execution_count": 328,
   "metadata": {
    "slideshow": {
     "slide_type": "slide"
    }
   },
   "outputs": [
    {
     "data": {
      "image/png": "[encoded data removed]",
      "text/plain": [
       "<Figure size 864x504 with 2 Axes>"
      ]
     },
     "metadata": {},
     "output_type": "display_data"
    }
   ],
   "source": [
    "plot_evaluate(model_history4)"
   ]
  },
  {
   "cell_type": "markdown",
   "metadata": {
    "slideshow": {
     "slide_type": "slide"
    }
   },
   "source": [
    "## Using Convnets\n",
    "\n",
    "We can use convnets to train a text classifier.All we have add is to add a conv1D layer after the embedding layer. "
   ]
  },
  {
   "cell_type": "code",
   "execution_count": 329,
   "metadata": {
    "slideshow": {
     "slide_type": "slide"
    }
   },
   "outputs": [],
   "source": [
    "model = Sequential()\n",
    "\n",
    "model.add(Embedding(vocal_size, embedding_dim, input_length=max_size))\n",
    "model.add(Conv1D(128, 5))\n",
    "model.add(Activation(\"relu\"))\n",
    "model.add(GlobalMaxPool1D())\n",
    "model.add(Activation(\"relu\"))\n",
    "model.add(Dense(10))\n",
    "model.add(Activation('relu'))\n",
    "model.add(Dense(1))\n",
    "model.add(Activation(\"sigmoid\"))"
   ]
  },
  {
   "cell_type": "code",
   "execution_count": 330,
   "metadata": {
    "slideshow": {
     "slide_type": "slide"
    }
   },
   "outputs": [],
   "source": [
    "model.compile(optimizer = \"adam\",\n",
    "            loss = \"binary_crossentropy\",\n",
    "             metrics = [\"accuracy\"]\n",
    "             )"
   ]
  },
  {
   "cell_type": "code",
   "execution_count": 331,
   "metadata": {
    "slideshow": {
     "slide_type": "slide"
    }
   },
   "outputs": [],
   "source": [
    "model_history5 = model.fit(X_train, y_train,\n",
    "                          epochs = 50,\n",
    "                          validation_data = (X_test, y_test),\n",
    "                          verbose = False,\n",
    "                          batch_size = 20)"
   ]
  },
  {
   "cell_type": "code",
   "execution_count": 332,
   "metadata": {
    "slideshow": {
     "slide_type": "slide"
    }
   },
   "outputs": [
    {
     "name": "stdout",
     "output_type": "stream",
     "text": [
      "Train accuracy: 1.0000\n",
      "Test accuracy: 0.8100\n"
     ]
    }
   ],
   "source": [
    "loss, accuracy = model.evaluate(X_train, y_train, verbose = False)\n",
    "test_loss, test_accuracy = model.evaluate(X_test, y_test, verbose = False)\n",
    "print(\"Train accuracy: {:.4f}\".format(accuracy))\n",
    "print(\"Test accuracy: {:.4f}\".format(test_accuracy))"
   ]
  },
  {
   "cell_type": "code",
   "execution_count": 333,
   "metadata": {
    "slideshow": {
     "slide_type": "slide"
    }
   },
   "outputs": [
    {
     "data": {
      "image/png": "[encoded data removed]",
      "text/plain": [
       "<Figure size 864x504 with 2 Axes>"
      ]
     },
     "metadata": {},
     "output_type": "display_data"
    }
   ],
   "source": [
    "plot_evaluate(model_history5)"
   ]
  },
  {
   "cell_type": "markdown",
   "metadata": {
    "slideshow": {
     "slide_type": "slide"
    }
   },
   "source": [
    "## Hyperparameter Tunning"
   ]
  },
  {
   "cell_type": "code",
   "execution_count": 260,
   "metadata": {
    "slideshow": {
     "slide_type": "slide"
    }
   },
   "outputs": [],
   "source": [
    "def build_model(num_filters, kernel_size, vocal_size, embedding_dim, max_size):\n",
    "    model = Sequential()\n",
    "    model.add(Embedding(vocal_size, embedding_dim, input_length = max_size))\n",
    "    model.add(Conv1D(num_filters, kernel_size))\n",
    "    model.add(Activation(\"relu\"))\n",
    "    model.add(GlobalMaxPool1D())\n",
    "    model.add(Dense(10))\n",
    "    model.add(Activation(\"relu\"))\n",
    "    model.add(Dense(1))\n",
    "    model.add(Activation(\"sigmoid\"))\n",
    "    \n",
    "    model.compile(optimizer = \"adam\",\n",
    "                 loss = \"binary_crossentropy\",\n",
    "                 metrics = [\"accuracy\"])\n",
    "    \n",
    "    return model"
   ]
  },
  {
   "cell_type": "code",
   "execution_count": 268,
   "metadata": {
    "slideshow": {
     "slide_type": "slide"
    }
   },
   "outputs": [],
   "source": [
    "param_grid = dict(num_filters=[32, 64, 128],\n",
    "                  kernel_size=[3, 5, 7],\n",
    "                  vocal_size=[5000], \n",
    "                  embedding_dim=[50],\n",
    "                  max_size=[100])\n"
   ]
  },
  {
   "cell_type": "code",
   "execution_count": 269,
   "metadata": {
    "slideshow": {
     "slide_type": "slide"
    }
   },
   "outputs": [],
   "source": [
    "from tensorflow.keras.wrappers.scikit_learn import KerasClassifier\n",
    "from sklearn.model_selection import RandomizedSearchCV"
   ]
  },
  {
   "cell_type": "code",
   "execution_count": 273,
   "metadata": {
    "slideshow": {
     "slide_type": "slide"
    }
   },
   "outputs": [
    {
     "name": "stdout",
     "output_type": "stream",
     "text": [
      "Running grid search for data set : amazon\n",
      "Fitting 4 folds for each of 5 candidates, totalling 20 fits\n"
     ]
    },
    {
     "name": "stderr",
     "output_type": "stream",
     "text": [
      "[Parallel(n_jobs=1)]: Using backend SequentialBackend with 1 concurrent workers.\n",
      "[Parallel(n_jobs=1)]: Done  20 out of  20 | elapsed: 15.2min finished\n"
     ]
    },
    {
     "name": "stdout",
     "output_type": "stream",
     "text": [
      "Running amazon data set\n",
      "Best Accuracy : 0.8130\n",
      "{'vocal_size': 5000, 'num_filters': 128, 'max_size': 100, 'kernel_size': 3, 'embedding_dim': 50}\n",
      "Test Accuracy : 0.8436\n",
      "\n",
      "\n",
      "Running grid search for data set : imdb\n",
      "Fitting 4 folds for each of 5 candidates, totalling 20 fits\n"
     ]
    },
    {
     "name": "stderr",
     "output_type": "stream",
     "text": [
      "[Parallel(n_jobs=1)]: Using backend SequentialBackend with 1 concurrent workers.\n",
      "[Parallel(n_jobs=1)]: Done  20 out of  20 | elapsed: 12.1min finished\n"
     ]
    },
    {
     "name": "stdout",
     "output_type": "stream",
     "text": [
      "Running imdb data set\n",
      "Best Accuracy : 0.8107\n",
      "{'vocal_size': 5000, 'num_filters': 32, 'max_size': 100, 'kernel_size': 5, 'embedding_dim': 50}\n",
      "Test Accuracy : 0.8436\n",
      "\n",
      "\n",
      "Running grid search for data set : yelp\n",
      "Fitting 4 folds for each of 5 candidates, totalling 20 fits\n"
     ]
    },
    {
     "name": "stderr",
     "output_type": "stream",
     "text": [
      "[Parallel(n_jobs=1)]: Using backend SequentialBackend with 1 concurrent workers.\n",
      "[Parallel(n_jobs=1)]: Done  20 out of  20 | elapsed: 11.5min finished\n"
     ]
    },
    {
     "name": "stdout",
     "output_type": "stream",
     "text": [
      "Running yelp data set\n",
      "Best Accuracy : 0.8135\n",
      "{'vocal_size': 5000, 'num_filters': 64, 'max_size': 100, 'kernel_size': 3, 'embedding_dim': 50}\n",
      "Test Accuracy : 0.8436\n",
      "\n",
      "\n"
     ]
    }
   ],
   "source": [
    "for source, frame in df.groupby('source'):\n",
    "    print('Running grid search for data set :', source)\n",
    "    sentences = df['sentence'].values\n",
    "    y = df['label'].values\n",
    "    \n",
    "    epochs = 20\n",
    "    embedding_dim = 50\n",
    "    maxlen = 100\n",
    "    output_file = \"./output_results.txt\"\n",
    "    \n",
    "    # Train-test split\n",
    "    sentences_train, sentences_test, y_train, y_test = train_test_split(\n",
    "        sentences, y, test_size=0.2, random_state=1000)\n",
    "    \n",
    "    #Tokenizer\n",
    "    tokenizer = Tokenizer(num_words = 5000)\n",
    "    tokenizer.fit_on_texts(sentences_train)\n",
    "    X_train = tokenizer.texts_to_sequences(sentences_train)\n",
    "    X_test = tokenizer.texts_to_sequences(sentences_test)\n",
    "    \n",
    "     # Adding 1 because of reserved 0 index\n",
    "    vocal_size = len(tokenizer.word_index) + 1\n",
    "    \n",
    "    #Pad sequences\n",
    "    X_train = pad_sequences(X_train, padding = 'post', maxlen = max_size)\n",
    "    X_test = pad_sequences(X_test, padding = 'post', maxlen = max_size)\n",
    "    \n",
    "    model = KerasClassifier(build_fn = build_model,\n",
    "                           epochs = epochs,\n",
    "                           verbose = False,\n",
    "                           batch_size = 20)\n",
    "    grid = RandomizedSearchCV(estimator = model, param_distributions = param_grid, \n",
    "                              cv=4, verbose=1, n_iter=5)\n",
    "    #fit the model\n",
    "    grid_result = grid.fit(X_train, y_train)\n",
    "    \n",
    "      # Evaluate testing set\n",
    "    test_accuracy = grid.score(X_test, y_test)\n",
    "\n",
    "    # Save and evaluate results\n",
    "\n",
    "    with open(output_file, 'a') as f:\n",
    "        s = ('Running {} data set\\nBest Accuracy : '\n",
    "             '{:.4f}\\n{}\\nTest Accuracy : {:.4f}\\n\\n')\n",
    "        output_string = s.format(\n",
    "            source,\n",
    "            grid_result.best_score_,\n",
    "            grid_result.best_params_,\n",
    "            test_accuracy)\n",
    "        print(output_string)\n",
    "        f.write(output_string)"
   ]
  },
  {
   "cell_type": "code",
   "execution_count": null,
   "metadata": {},
   "outputs": [],
   "source": []
  }
 ],
 "metadata": {
  "celltoolbar": "Slideshow",
  "kernelspec": {
   "display_name": "Python 3",
   "language": "python",
   "name": "python3"
  },
  "language_info": {
   "codemirror_mode": {
    "name": "ipython",
    "version": 3
   },
   "file_extension": ".py",
   "mimetype": "text/x-python",
   "name": "python",
   "nbconvert_exporter": "python",
   "pygments_lexer": "ipython3",
   "version": "3.8.5"
  },
  "toc": {
   "base_numbering": 1,
   "nav_menu": {},
   "number_sections": true,
   "sideBar": true,
   "skip_h1_title": false,
   "title_cell": "Table of Contents",
   "title_sidebar": "Contents",
   "toc_cell": false,
   "toc_position": {},
   "toc_section_display": true,
   "toc_window_display": false
  }
 },
 "nbformat": 4,
 "nbformat_minor": 4
}
